{
 "cells": [
  {
   "cell_type": "markdown",
   "metadata": {},
   "source": [
    "<center><h1> Uvod u podatkovnu znanost  </h1></center>\n",
    "<center><h2> Zimski semestar - 2022 </h2></center> \n",
    "<center><h3> Lab 6</h3></center> \n",
    "<center><h3> </h3></center> \n",
    "<center><h3> Statistička analiza podataka</h3></center> "
   ]
  },
  {
   "cell_type": "markdown",
   "metadata": {
    "pycharm": {
     "name": "#%% md\n"
    },
    "tags": []
   },
   "source": [
    "## Podaci\n",
    "\n",
    "Koristit ćete skup podataka od 18403 glazbene recenzije izvučene iz Pitchfork baze, uključujući relevantne metapodatke kao što su autor recenzije, datum recenzije, godina izdanja ploče, rezultat recenzije i žanr, zajedno sa audio značajkama dotičnog albuma preuzetim iz Spotifyjevog API-ja. Podaci se sastoje od sljedećih stupaca:\n",
    "\n",
    "| Stupac   | Opis  |\n",
    "|----------|:-------------|\n",
    "| `artist`           | Ime izvođača koji je stvorio album koji se pregledava. |\n",
    "| `album`            | Naziv albuma koji se pregledava. |\n",
    "| `recordlabel`      | Ime diskografske kuće koja je objavila album. |\n",
    "| `releaseyear`      | Godina izlaska albuma. |\n",
    "| `score`            | Ocjena koju je recenzent dao albumu na ljestvici od 0,0 do 10,0. |\n",
    "| `reviewauthor`     | Ime autora koji je recenzirao album. |\n",
    "| `genre`            | Žanr koji je albumu dodijelio Pitchfork. |\n",
    "| `reviewdate`       | Datum objave recenzije.  |\n",
    "| `key` | Procijenjeni ukupni glazbeni ključ pjesme. |\n",
    "| `acousticness` | Mjera pouzdanosti od 0,0 do 1,0 je li album akustičan. |\n",
    "| `danceability` | Koliko je album prikladan za ples na temelju kombinacije glazbenih elemenata uključujući tempo, stabilnost ritma, snagu takta i ukupnu pravilnost.\n",
    "| `energy` | Percepcijska mjera intenziteta i aktivnosti. |\n",
    "| `instrumentalness` | Predviđa sadrži li album vokale, od 0,0 do 1,0. |\n",
    "| `liveness` | Detektira prisutnost publike, od 0,0 do 1,0. |\n",
    "| `loudness` | Ukupna glasnoća albuma u decibelima (dB). |\n",
    "| `speechiness` | Mjeri prisutnost izgovorenih riječi u albumu na skali od 0,0 do 1,0. |\n",
    "| `valence` | Mjera od 0,0 do 1,0 koja opisuje glazbenu pozitivnost koju prenosi album. |\n",
    "| `tempo` | Ukupni procijenjeni tempo albuma u otkucajima u minuti (BPM). |\n"
   ]
  },
  {
   "cell_type": "code",
   "execution_count": 2,
   "metadata": {},
   "outputs": [
    {
     "name": "stdout",
     "output_type": "stream",
     "text": [
      "Defaulting to user installation because normal site-packages is not writeable\n",
      "Requirement already satisfied: pandas in /home/ntafra00.fesb.hr/.local/lib/python3.6/site-packages (1.1.5)\n",
      "Requirement already satisfied: numpy>=1.15.4 in /home/ntafra00.fesb.hr/.local/lib/python3.6/site-packages (from pandas) (1.19.5)\n",
      "Requirement already satisfied: pytz>=2017.2 in /usr/lib/python3.6/site-packages (from pandas) (2017.2)\n",
      "Requirement already satisfied: python-dateutil>=2.7.3 in /home/ntafra00.fesb.hr/.local/lib/python3.6/site-packages (from pandas) (2.8.2)\n",
      "Requirement already satisfied: six>=1.5 in /usr/lib/python3.6/site-packages (from python-dateutil>=2.7.3->pandas) (1.11.0)\n",
      "Note: you may need to restart the kernel to use updated packages.\n"
     ]
    }
   ],
   "source": [
    "pip install pandas"
   ]
  },
  {
   "cell_type": "code",
   "execution_count": 3,
   "metadata": {},
   "outputs": [
    {
     "name": "stdout",
     "output_type": "stream",
     "text": [
      "Defaulting to user installation because normal site-packages is not writeable\n",
      "Collecting seaborn\n",
      "  Downloading seaborn-0.11.2-py3-none-any.whl (292 kB)\n",
      "     |████████████████████████████████| 292 kB 2.6 MB/s            \n",
      "\u001b[?25hRequirement already satisfied: pandas>=0.23 in /home/ntafra00.fesb.hr/.local/lib/python3.6/site-packages (from seaborn) (1.1.5)\n",
      "Requirement already satisfied: numpy>=1.15 in /home/ntafra00.fesb.hr/.local/lib/python3.6/site-packages (from seaborn) (1.19.5)\n",
      "Collecting scipy>=1.0\n",
      "  Downloading scipy-1.5.4-cp36-cp36m-manylinux1_x86_64.whl (25.9 MB)\n",
      "     |████████████████████████████████| 25.9 MB 49.4 MB/s            MB 49.4 MB/s eta 0:00:014 MB/s eta 0:00:01��███▍                  | 10.8 MB 49.4 MB/s eta 0:00:01ta 0:00:01█████████████████████████      | 21.1 MB 49.4 MB/s eta 0:00:01████████████ | 25.0 MB 49.4 MB/s eta 0:00:01\n",
      "\u001b[?25hCollecting matplotlib>=2.2\n",
      "  Downloading matplotlib-3.3.4-cp36-cp36m-manylinux1_x86_64.whl (11.5 MB)\n",
      "     |████████████████████████████████| 11.5 MB 45.6 MB/s            :01��▌               | 6.0 MB 45.6 MB/s eta 0:00:01��███████████████  | 10.8 MB 45.6 MB/s eta 0:00:01\n",
      "\u001b[?25hRequirement already satisfied: python-dateutil>=2.1 in /home/ntafra00.fesb.hr/.local/lib/python3.6/site-packages (from matplotlib>=2.2->seaborn) (2.8.2)\n",
      "Collecting cycler>=0.10\n",
      "  Downloading cycler-0.11.0-py3-none-any.whl (6.4 kB)\n",
      "Requirement already satisfied: pyparsing!=2.0.4,!=2.1.2,!=2.1.6,>=2.0.3 in /usr/local/lib/python3.6/site-packages (from matplotlib>=2.2->seaborn) (3.0.9)\n",
      "Collecting kiwisolver>=1.0.1\n",
      "  Downloading kiwisolver-1.3.1-cp36-cp36m-manylinux1_x86_64.whl (1.1 MB)\n",
      "     |████████████████████████████████| 1.1 MB 50.8 MB/s            \n",
      "\u001b[?25hCollecting pillow>=6.2.0\n",
      "  Downloading Pillow-8.4.0-cp36-cp36m-manylinux_2_17_x86_64.manylinux2014_x86_64.whl (3.1 MB)\n",
      "     |████████████████████████████████| 3.1 MB 56.4 MB/s                                        | 276 kB 56.4 MB/s eta 0:00:01\n",
      "\u001b[?25hRequirement already satisfied: pytz>=2017.2 in /usr/lib/python3.6/site-packages (from pandas>=0.23->seaborn) (2017.2)\n",
      "Requirement already satisfied: six>=1.5 in /usr/lib/python3.6/site-packages (from python-dateutil>=2.1->matplotlib>=2.2->seaborn) (1.11.0)\n",
      "Installing collected packages: pillow, kiwisolver, cycler, scipy, matplotlib, seaborn\n",
      "Successfully installed cycler-0.11.0 kiwisolver-1.3.1 matplotlib-3.3.4 pillow-8.4.0 scipy-1.5.4 seaborn-0.11.2\n",
      "Note: you may need to restart the kernel to use updated packages.\n"
     ]
    }
   ],
   "source": [
    "pip install seaborn"
   ]
  },
  {
   "cell_type": "code",
   "execution_count": 4,
   "metadata": {},
   "outputs": [
    {
     "name": "stdout",
     "output_type": "stream",
     "text": [
      "Defaulting to user installation because normal site-packages is not writeable\n",
      "Requirement already satisfied: matplotlib in /home/ntafra00.fesb.hr/.local/lib/python3.6/site-packages (3.3.4)\n",
      "Requirement already satisfied: python-dateutil>=2.1 in /home/ntafra00.fesb.hr/.local/lib/python3.6/site-packages (from matplotlib) (2.8.2)\n",
      "Requirement already satisfied: pyparsing!=2.0.4,!=2.1.2,!=2.1.6,>=2.0.3 in /usr/local/lib/python3.6/site-packages (from matplotlib) (3.0.9)\n",
      "Requirement already satisfied: numpy>=1.15 in /home/ntafra00.fesb.hr/.local/lib/python3.6/site-packages (from matplotlib) (1.19.5)\n",
      "Requirement already satisfied: cycler>=0.10 in /home/ntafra00.fesb.hr/.local/lib/python3.6/site-packages (from matplotlib) (0.11.0)\n",
      "Requirement already satisfied: kiwisolver>=1.0.1 in /home/ntafra00.fesb.hr/.local/lib/python3.6/site-packages (from matplotlib) (1.3.1)\n",
      "Requirement already satisfied: pillow>=6.2.0 in /home/ntafra00.fesb.hr/.local/lib/python3.6/site-packages (from matplotlib) (8.4.0)\n",
      "Requirement already satisfied: six>=1.5 in /usr/lib/python3.6/site-packages (from python-dateutil>=2.1->matplotlib) (1.11.0)\n",
      "Note: you may need to restart the kernel to use updated packages.\n"
     ]
    }
   ],
   "source": [
    "pip install matplotlib"
   ]
  },
  {
   "cell_type": "code",
   "execution_count": 5,
   "metadata": {},
   "outputs": [
    {
     "name": "stdout",
     "output_type": "stream",
     "text": [
      "Defaulting to user installation because normal site-packages is not writeable\n",
      "Requirement already satisfied: numpy in /home/ntafra00.fesb.hr/.local/lib/python3.6/site-packages (1.19.5)\n",
      "Note: you may need to restart the kernel to use updated packages.\n"
     ]
    }
   ],
   "source": [
    "pip install numpy"
   ]
  },
  {
   "cell_type": "code",
   "execution_count": 8,
   "metadata": {},
   "outputs": [
    {
     "name": "stdout",
     "output_type": "stream",
     "text": [
      "Defaulting to user installation because normal site-packages is not writeable\n",
      "Requirement already satisfied: scipy in /home/ntafra00.fesb.hr/.local/lib/python3.6/site-packages (1.5.4)\n",
      "Requirement already satisfied: numpy>=1.14.5 in /home/ntafra00.fesb.hr/.local/lib/python3.6/site-packages (from scipy) (1.19.5)\n",
      "Note: you may need to restart the kernel to use updated packages.\n"
     ]
    }
   ],
   "source": [
    "pip install scipy"
   ]
  },
  {
   "cell_type": "code",
   "execution_count": 6,
   "metadata": {},
   "outputs": [
    {
     "name": "stdout",
     "output_type": "stream",
     "text": [
      "Defaulting to user installation because normal site-packages is not writeable\n",
      "\u001b[31mERROR: Could not find a version that satisfies the requirement itertools (from versions: none)\u001b[0m\n",
      "\u001b[31mERROR: No matching distribution found for itertools\u001b[0m\n",
      "Note: you may need to restart the kernel to use updated packages.\n"
     ]
    }
   ],
   "source": [
    "pip install itertools"
   ]
  },
  {
   "cell_type": "code",
   "execution_count": 1,
   "metadata": {},
   "outputs": [],
   "source": [
    "import pandas as pd\n",
    "import matplotlib.pyplot as plt\n",
    "from matplotlib import ticker\n",
    "\n",
    "import seaborn as sns\n",
    "import numpy as np\n",
    "import scipy\n",
    "import itertools\n",
    "\n",
    "# datetime operations\n",
    "from datetime import datetime\n",
    "\n",
    "# ttest and euclidean distance\n",
    "from scipy.stats import ttest_ind\n",
    "\n",
    "sns.set_style('whitegrid')"
   ]
  },
  {
   "cell_type": "markdown",
   "metadata": {
    "pycharm": {
     "name": "#%%\n"
    }
   },
   "source": [
    "## Vježba 1: Inicijalna analiza?\n"
   ]
  },
  {
   "cell_type": "markdown",
   "metadata": {},
   "source": [
    "**Task 1 (Inicijalna analiza)**\n",
    "\n",
    "Kao dobar podatkovni znanstvenik, prvo što morate učiniti je dobro pogledati podatke koji su vam uručeni.\n",
    "\n",
    "1. Učitajte podatke pomoću `pandas`. Identificirajte i uklonite duple recenzije, tj. dvije recenzije s albumima istog benda s istim imenom (zadržite prvo pojavljivanje). Ispišite broj redaka u vašem podatkovnom okviru.\n",
    "\n",
    "2. Nacrtajte distribuciju godina izdavanja albuma i prosječnu ocjenu albuma po godini.\n",
    "\n",
    "3. Za numeričke stupce izračunajte srednju vrijednost, medijan, minimalnu vrijednost i maksimalnu vrijednost. Osim toga, iscrtajte distribuciju za sve numeričke stupce na jednoj slici (po mogućnosti s višestrukim podcrtama). Vaša bi slika trebala biti najviše 14 inča široka i 14 inča dugačka.\n",
    "\n",
    "3. Za kategoričke stupce navedite koliko različitih vrijednosti postoji u svakom stupcu. Ako postoji manje od 10 različitih vrijednosti za kategoriju, ispišite ih sve. Za stupac `genre` dodijelite vrijednost `'Other'` za albume gdje je vrijednost ili `'none'` ili `NaN`.\n",
    "\n",
    "---"
   ]
  },
  {
   "cell_type": "code",
   "execution_count": 2,
   "metadata": {},
   "outputs": [
    {
     "name": "stdout",
     "output_type": "stream",
     "text": [
      "Num. rows: 16738\n"
     ]
    },
    {
     "data": {
      "text/html": [
       "<div>\n",
       "<style scoped>\n",
       "    .dataframe tbody tr th:only-of-type {\n",
       "        vertical-align: middle;\n",
       "    }\n",
       "\n",
       "    .dataframe tbody tr th {\n",
       "        vertical-align: top;\n",
       "    }\n",
       "\n",
       "    .dataframe thead th {\n",
       "        text-align: right;\n",
       "    }\n",
       "</style>\n",
       "<table border=\"1\" class=\"dataframe\">\n",
       "  <thead>\n",
       "    <tr style=\"text-align: right;\">\n",
       "      <th></th>\n",
       "      <th>artist</th>\n",
       "      <th>album</th>\n",
       "      <th>reviewauthor</th>\n",
       "      <th>score</th>\n",
       "      <th>releaseyear</th>\n",
       "      <th>reviewdate</th>\n",
       "      <th>recordlabel</th>\n",
       "      <th>genre</th>\n",
       "      <th>danceability</th>\n",
       "      <th>energy</th>\n",
       "      <th>key</th>\n",
       "      <th>loudness</th>\n",
       "      <th>speechiness</th>\n",
       "      <th>acousticness</th>\n",
       "      <th>instrumentalness</th>\n",
       "      <th>liveness</th>\n",
       "      <th>valence</th>\n",
       "      <th>tempo</th>\n",
       "    </tr>\n",
       "  </thead>\n",
       "  <tbody>\n",
       "    <tr>\n",
       "      <th>0</th>\n",
       "      <td>Studio 1</td>\n",
       "      <td>Studio 1</td>\n",
       "      <td>Andy Battaglia</td>\n",
       "      <td>8.5</td>\n",
       "      <td>2009.0</td>\n",
       "      <td>February 18 2009</td>\n",
       "      <td>Studio</td>\n",
       "      <td>Electronic</td>\n",
       "      <td>0.511917</td>\n",
       "      <td>0.499667</td>\n",
       "      <td>5.250000</td>\n",
       "      <td>-5.626583</td>\n",
       "      <td>0.031983</td>\n",
       "      <td>0.724917</td>\n",
       "      <td>0.024493</td>\n",
       "      <td>0.165367</td>\n",
       "      <td>0.555083</td>\n",
       "      <td>101.395167</td>\n",
       "    </tr>\n",
       "    <tr>\n",
       "      <th>1</th>\n",
       "      <td>John Fahey</td>\n",
       "      <td>The Great Santa Barbara Oil Slick</td>\n",
       "      <td>Mark Richardson</td>\n",
       "      <td>8.2</td>\n",
       "      <td>2005.0</td>\n",
       "      <td>February 13 2005</td>\n",
       "      <td>Water</td>\n",
       "      <td>Folk/Country</td>\n",
       "      <td>0.369765</td>\n",
       "      <td>0.325412</td>\n",
       "      <td>4.470588</td>\n",
       "      <td>-19.153824</td>\n",
       "      <td>0.148624</td>\n",
       "      <td>0.647053</td>\n",
       "      <td>0.559133</td>\n",
       "      <td>0.527782</td>\n",
       "      <td>0.179465</td>\n",
       "      <td>107.622647</td>\n",
       "    </tr>\n",
       "    <tr>\n",
       "      <th>2</th>\n",
       "      <td>Reigning Sound</td>\n",
       "      <td>Too Much Guitar</td>\n",
       "      <td>Stephen M. Deusner</td>\n",
       "      <td>8.3</td>\n",
       "      <td>2004.0</td>\n",
       "      <td>August 19 2004</td>\n",
       "      <td>In the Red</td>\n",
       "      <td>Electronic</td>\n",
       "      <td>0.253943</td>\n",
       "      <td>0.912857</td>\n",
       "      <td>4.428571</td>\n",
       "      <td>-1.089500</td>\n",
       "      <td>0.055500</td>\n",
       "      <td>0.000253</td>\n",
       "      <td>0.751214</td>\n",
       "      <td>0.199071</td>\n",
       "      <td>0.552786</td>\n",
       "      <td>133.895500</td>\n",
       "    </tr>\n",
       "    <tr>\n",
       "      <th>3</th>\n",
       "      <td>The Red Thread</td>\n",
       "      <td>After the Last</td>\n",
       "      <td>Chris Dahlen</td>\n",
       "      <td>7.3</td>\n",
       "      <td>2003.0</td>\n",
       "      <td>July 17 2003</td>\n",
       "      <td>Badman</td>\n",
       "      <td>Rock</td>\n",
       "      <td>0.425400</td>\n",
       "      <td>0.433474</td>\n",
       "      <td>5.700000</td>\n",
       "      <td>-12.871000</td>\n",
       "      <td>0.028260</td>\n",
       "      <td>0.310325</td>\n",
       "      <td>0.224137</td>\n",
       "      <td>0.125150</td>\n",
       "      <td>0.451400</td>\n",
       "      <td>104.354200</td>\n",
       "    </tr>\n",
       "    <tr>\n",
       "      <th>4</th>\n",
       "      <td>Mac Miller</td>\n",
       "      <td>Swimming</td>\n",
       "      <td>Evan Rytlewski</td>\n",
       "      <td>7.5</td>\n",
       "      <td>2018.0</td>\n",
       "      <td>August 3 2018</td>\n",
       "      <td>Warner Bros.</td>\n",
       "      <td>Rap</td>\n",
       "      <td>0.624846</td>\n",
       "      <td>0.438154</td>\n",
       "      <td>4.153846</td>\n",
       "      <td>-9.456077</td>\n",
       "      <td>0.170246</td>\n",
       "      <td>0.652462</td>\n",
       "      <td>0.012819</td>\n",
       "      <td>0.121131</td>\n",
       "      <td>0.281138</td>\n",
       "      <td>122.121308</td>\n",
       "    </tr>\n",
       "  </tbody>\n",
       "</table>\n",
       "</div>"
      ],
      "text/plain": [
       "           artist                              album        reviewauthor  \\\n",
       "0        Studio 1                           Studio 1      Andy Battaglia   \n",
       "1      John Fahey  The Great Santa Barbara Oil Slick     Mark Richardson   \n",
       "2  Reigning Sound                    Too Much Guitar  Stephen M. Deusner   \n",
       "3  The Red Thread                     After the Last        Chris Dahlen   \n",
       "4      Mac Miller                           Swimming      Evan Rytlewski   \n",
       "\n",
       "   score  releaseyear        reviewdate   recordlabel         genre  \\\n",
       "0    8.5       2009.0  February 18 2009        Studio    Electronic   \n",
       "1    8.2       2005.0  February 13 2005         Water  Folk/Country   \n",
       "2    8.3       2004.0    August 19 2004    In the Red    Electronic   \n",
       "3    7.3       2003.0      July 17 2003        Badman          Rock   \n",
       "4    7.5       2018.0     August 3 2018  Warner Bros.           Rap   \n",
       "\n",
       "   danceability    energy       key   loudness  speechiness  acousticness  \\\n",
       "0      0.511917  0.499667  5.250000  -5.626583     0.031983      0.724917   \n",
       "1      0.369765  0.325412  4.470588 -19.153824     0.148624      0.647053   \n",
       "2      0.253943  0.912857  4.428571  -1.089500     0.055500      0.000253   \n",
       "3      0.425400  0.433474  5.700000 -12.871000     0.028260      0.310325   \n",
       "4      0.624846  0.438154  4.153846  -9.456077     0.170246      0.652462   \n",
       "\n",
       "   instrumentalness  liveness   valence       tempo  \n",
       "0          0.024493  0.165367  0.555083  101.395167  \n",
       "1          0.559133  0.527782  0.179465  107.622647  \n",
       "2          0.751214  0.199071  0.552786  133.895500  \n",
       "3          0.224137  0.125150  0.451400  104.354200  \n",
       "4          0.012819  0.121131  0.281138  122.121308  "
      ]
     },
     "execution_count": 2,
     "metadata": {},
     "output_type": "execute_result"
    }
   ],
   "source": [
    "# 1.1\n",
    "\n",
    "pitchfork = pd.read_csv('pitchfork.csv')\n",
    "pitchfork = pitchfork.drop_duplicates(subset=[\"album\", \"artist\"], keep=\"first\")\n",
    "print(\"Num. rows: \" + str(len(pitchfork)))\n",
    "pitchfork.head()"
   ]
  },
  {
   "cell_type": "code",
   "execution_count": 3,
   "metadata": {},
   "outputs": [],
   "source": [
    "numeric_cols = ['score', 'releaseyear', 'danceability', 'energy', 'key',\n",
    "       'speechiness', 'acousticness', 'instrumentalness', 'liveness',\n",
    "       'valence', 'tempo']\n",
    "for i in numeric_cols:\n",
    "    pitchfork = pitchfork.loc[pitchfork[i] != -1].copy(deep=True)\n"
   ]
  },
  {
   "cell_type": "code",
   "execution_count": 6,
   "metadata": {},
   "outputs": [
    {
     "data": {
      "text/plain": [
       "[<matplotlib.axis.XTick at 0x7faefc8e4c18>,\n",
       " <matplotlib.axis.XTick at 0x7faefc8e47b8>,\n",
       " <matplotlib.axis.XTick at 0x7faefc8e4470>,\n",
       " <matplotlib.axis.XTick at 0x7faefc756400>,\n",
       " <matplotlib.axis.XTick at 0x7faefc756898>,\n",
       " <matplotlib.axis.XTick at 0x7faefc756d30>]"
      ]
     },
     "execution_count": 6,
     "metadata": {},
     "output_type": "execute_result"
    },
    {
     "data": {
      "image/png": "[encoded data removed]",
      "text/plain": [
       "<Figure size 1440x504 with 1 Axes>"
      ]
     },
     "metadata": {},
     "output_type": "display_data"
    },
    {
     "data": {
      "image/png": "[encoded data removed]",
      "text/plain": [
       "<Figure size 1440x504 with 1 Axes>"
      ]
     },
     "metadata": {},
     "output_type": "display_data"
    }
   ],
   "source": [
    "# 1.2\n",
    "\n",
    "pitchfork['reviewdate'] = pd.to_datetime(pitchfork['reviewdate'], format='%B %d %Y')\n",
    "pitchfork['releaseyear'] = pd.to_datetime(pitchfork['releaseyear'], format='%Y')\n",
    "pitchfork['releaseyear_notutc'] = pitchfork.releaseyear.dt.year\n",
    "\n",
    "# HINT: sns.countplot\n",
    "plt.figure(figsize=(20,7))\n",
    "ax = sns.countplot(data=pitchfork, x=pitchfork['releaseyear_notutc'])\n",
    "ax.set_yscale(\"log\")\n",
    "ax.set_xticks([3,13,23,33,43,53])\n",
    "\n",
    "# HINT: sns.barplot\n",
    "plt.figure(figsize=(20,7))\n",
    "ax = sns.barplot(data=pitchfork, x='releaseyear_notutc', y='score')\n",
    "ax.set_xticks([3,13,23,33,43,53])"
   ]
  },
  {
   "cell_type": "code",
   "execution_count": 8,
   "metadata": {},
   "outputs": [
    {
     "data": {
      "image/png": "[encoded data removed]",
      "text/plain": [
       "<Figure size 1008x1008 with 12 Axes>"
      ]
     },
     "metadata": {},
     "output_type": "display_data"
    }
   ],
   "source": [
    "# 1.3\n",
    "numeric_cols = pitchfork.select_dtypes(include=['int64','float64']).columns\n",
    "it = 0\n",
    "fig, axes = plt.subplots(4, 3, figsize=(14,14))\n",
    "for i in range(4):\n",
    "    for j in range(3):\n",
    "        sns.histplot(ax=axes[i,j], data=pitchfork, x=numeric_cols[it])\n",
    "        it += 1\n",
    "#pitchfork.describe().T"
   ]
  },
  {
   "cell_type": "code",
   "execution_count": 10,
   "metadata": {},
   "outputs": [
    {
     "name": "stdout",
     "output_type": "stream",
     "text": [
      "artist unique values: 7890\n",
      "album unique values: 16177\n",
      "reviewauthor unique values: 554\n",
      "releaseyear unique values: 61\n",
      "reviewdate unique values: 4876\n",
      "recordlabel unique values: 3030\n",
      "genre unique values: 10\n",
      "Electronic\n",
      "Folk/Country\n",
      "Rock\n",
      "Rap\n",
      "Global\n",
      "Experimental\n",
      "Metal\n",
      "Pop/R&B\n",
      "Jazz\n",
      "none\n"
     ]
    }
   ],
   "source": [
    "# 1.4 \n",
    "categories = pitchfork.select_dtypes(exclude=['int64','float64']).columns\n",
    "pitchfork[\"genre\"].replace([\"none\", \"Nan\"], \"Other\")\n",
    "for category in categories:\n",
    "    unique_values = pitchfork[category].unique()\n",
    "    print(f\"{category} unique values: {len(unique_values)}\")\n",
    "    if(len(unique_values) <= 10):\n",
    "        for j in range (len(unique_values)):\n",
    "            print(unique_values[j])"
   ]
  },
  {
   "cell_type": "markdown",
   "metadata": {},
   "source": [
    "## Vježba 2: Sindrom drugog albuma"
   ]
  },
  {
   "cell_type": "markdown",
   "metadata": {
    "pycharm": {
     "name": "#%% md\n"
    }
   },
   "source": [
    "**Task 2 (Preliminarna analiza)**\n",
    "\n",
    "Počinjete provođenjem neke preliminarne obrade podataka i analiza.\n",
    "\n",
    "1. Napravite novi dataframe (od izvornih podataka s izbačenim duplikatima, isti kao što ste dobili nakon završetka zadatka 1.1) koji sadrži samo albume izvođača s dva ili više albuma i gdje godina izdanja nije prazna.\n",
    "2. Napravite novi stupac `album_number` koji označava koliko je albuma izvođač producirao prije ovog (prije drugog albuma, izvođač je već producirao jedan album).\n",
    "3. Izračunajte srednju vrijednost i standardnu pogrešku za srednju vrijednost rezultata prvog i drugog albuma u skupu podataka. Dodatno, nacrtajte dvije distribucije.\n",
    "4. Koristite odgovarajuću metodu da odredite je li razlika u sredinama 1. i 2. albuma statistički signigikantna?\n",
    "5. **Diskutirajte:** Sugeriraju li ove analize postojanje \"sindroma drugog albuma\"?\n",
    "\n",
    "---"
   ]
  },
  {
   "cell_type": "code",
   "execution_count": 11,
   "metadata": {},
   "outputs": [],
   "source": [
    "# 5.1\n",
    "\n",
    "pitchfork = pd.read_csv('pitchfork.csv')\n",
    "pitchfork = pitchfork.drop_duplicates(subset=[\"album\", \"artist\"], keep=\"first\")\n",
    "pitchfork['reviewdate'] = pd.to_datetime(pitchfork['reviewdate'], format='%B %d %Y')\n",
    "pitchfork['releaseyear'] = pd.to_datetime(pitchfork['releaseyear'], format='%Y')\n",
    "pitchfork['releaseyear_notutc'] = pitchfork.releaseyear.dt.year\n",
    "\n",
    "filtered_artists = pitchfork.groupby('artist').size().loc[lambda x : x > 1].index\n",
    "\n",
    "two_ormore = pitchfork[pitchfork.artist.isin(filtered_artists)].copy()"
   ]
  },
  {
   "cell_type": "code",
   "execution_count": 12,
   "metadata": {},
   "outputs": [
    {
     "data": {
      "text/html": [
       "<div>\n",
       "<style scoped>\n",
       "    .dataframe tbody tr th:only-of-type {\n",
       "        vertical-align: middle;\n",
       "    }\n",
       "\n",
       "    .dataframe tbody tr th {\n",
       "        vertical-align: top;\n",
       "    }\n",
       "\n",
       "    .dataframe thead th {\n",
       "        text-align: right;\n",
       "    }\n",
       "</style>\n",
       "<table border=\"1\" class=\"dataframe\">\n",
       "  <thead>\n",
       "    <tr style=\"text-align: right;\">\n",
       "      <th></th>\n",
       "      <th>artist</th>\n",
       "      <th>album</th>\n",
       "      <th>reviewauthor</th>\n",
       "      <th>score</th>\n",
       "      <th>releaseyear</th>\n",
       "      <th>reviewdate</th>\n",
       "      <th>recordlabel</th>\n",
       "      <th>genre</th>\n",
       "      <th>danceability</th>\n",
       "      <th>energy</th>\n",
       "      <th>key</th>\n",
       "      <th>loudness</th>\n",
       "      <th>speechiness</th>\n",
       "      <th>acousticness</th>\n",
       "      <th>instrumentalness</th>\n",
       "      <th>liveness</th>\n",
       "      <th>valence</th>\n",
       "      <th>tempo</th>\n",
       "      <th>releaseyear_notutc</th>\n",
       "      <th>album_number</th>\n",
       "    </tr>\n",
       "  </thead>\n",
       "  <tbody>\n",
       "    <tr>\n",
       "      <th>1</th>\n",
       "      <td>John Fahey</td>\n",
       "      <td>The Great Santa Barbara Oil Slick</td>\n",
       "      <td>Mark Richardson</td>\n",
       "      <td>8.2</td>\n",
       "      <td>2005-01-01</td>\n",
       "      <td>2005-02-13</td>\n",
       "      <td>Water</td>\n",
       "      <td>Folk/Country</td>\n",
       "      <td>0.369765</td>\n",
       "      <td>0.325412</td>\n",
       "      <td>4.470588</td>\n",
       "      <td>-19.153824</td>\n",
       "      <td>0.148624</td>\n",
       "      <td>0.647053</td>\n",
       "      <td>0.559133</td>\n",
       "      <td>0.527782</td>\n",
       "      <td>0.179465</td>\n",
       "      <td>107.622647</td>\n",
       "      <td>2005</td>\n",
       "      <td>2</td>\n",
       "    </tr>\n",
       "    <tr>\n",
       "      <th>2</th>\n",
       "      <td>Reigning Sound</td>\n",
       "      <td>Too Much Guitar</td>\n",
       "      <td>Stephen M. Deusner</td>\n",
       "      <td>8.3</td>\n",
       "      <td>2004-01-01</td>\n",
       "      <td>2004-08-19</td>\n",
       "      <td>In the Red</td>\n",
       "      <td>Electronic</td>\n",
       "      <td>0.253943</td>\n",
       "      <td>0.912857</td>\n",
       "      <td>4.428571</td>\n",
       "      <td>-1.089500</td>\n",
       "      <td>0.055500</td>\n",
       "      <td>0.000253</td>\n",
       "      <td>0.751214</td>\n",
       "      <td>0.199071</td>\n",
       "      <td>0.552786</td>\n",
       "      <td>133.895500</td>\n",
       "      <td>2004</td>\n",
       "      <td>0</td>\n",
       "    </tr>\n",
       "    <tr>\n",
       "      <th>4</th>\n",
       "      <td>Mac Miller</td>\n",
       "      <td>Swimming</td>\n",
       "      <td>Evan Rytlewski</td>\n",
       "      <td>7.5</td>\n",
       "      <td>2018-01-01</td>\n",
       "      <td>2018-08-03</td>\n",
       "      <td>Warner Bros.</td>\n",
       "      <td>Rap</td>\n",
       "      <td>0.624846</td>\n",
       "      <td>0.438154</td>\n",
       "      <td>4.153846</td>\n",
       "      <td>-9.456077</td>\n",
       "      <td>0.170246</td>\n",
       "      <td>0.652462</td>\n",
       "      <td>0.012819</td>\n",
       "      <td>0.121131</td>\n",
       "      <td>0.281138</td>\n",
       "      <td>122.121308</td>\n",
       "      <td>2018</td>\n",
       "      <td>4</td>\n",
       "    </tr>\n",
       "    <tr>\n",
       "      <th>5</th>\n",
       "      <td>French Kicks</td>\n",
       "      <td>Swimming</td>\n",
       "      <td>Roque Strew</td>\n",
       "      <td>7.6</td>\n",
       "      <td>2008-01-01</td>\n",
       "      <td>2008-08-27</td>\n",
       "      <td>Vagrant</td>\n",
       "      <td>Electronic</td>\n",
       "      <td>0.624846</td>\n",
       "      <td>0.438154</td>\n",
       "      <td>4.153846</td>\n",
       "      <td>-9.456077</td>\n",
       "      <td>0.170246</td>\n",
       "      <td>0.652462</td>\n",
       "      <td>0.012819</td>\n",
       "      <td>0.121131</td>\n",
       "      <td>0.281138</td>\n",
       "      <td>122.121308</td>\n",
       "      <td>2008</td>\n",
       "      <td>3</td>\n",
       "    </tr>\n",
       "    <tr>\n",
       "      <th>6</th>\n",
       "      <td>Jessica Lea Mayfield</td>\n",
       "      <td>With Blasphemy So Heartfelt</td>\n",
       "      <td>Stephen M. Deusner</td>\n",
       "      <td>8.2</td>\n",
       "      <td>2008-01-01</td>\n",
       "      <td>2008-11-11</td>\n",
       "      <td>Polymer</td>\n",
       "      <td>Rock</td>\n",
       "      <td>0.447583</td>\n",
       "      <td>0.399083</td>\n",
       "      <td>6.500000</td>\n",
       "      <td>-8.402000</td>\n",
       "      <td>0.032267</td>\n",
       "      <td>0.694750</td>\n",
       "      <td>0.004033</td>\n",
       "      <td>0.123142</td>\n",
       "      <td>0.237933</td>\n",
       "      <td>111.549917</td>\n",
       "      <td>2008</td>\n",
       "      <td>0</td>\n",
       "    </tr>\n",
       "    <tr>\n",
       "      <th>...</th>\n",
       "      <td>...</td>\n",
       "      <td>...</td>\n",
       "      <td>...</td>\n",
       "      <td>...</td>\n",
       "      <td>...</td>\n",
       "      <td>...</td>\n",
       "      <td>...</td>\n",
       "      <td>...</td>\n",
       "      <td>...</td>\n",
       "      <td>...</td>\n",
       "      <td>...</td>\n",
       "      <td>...</td>\n",
       "      <td>...</td>\n",
       "      <td>...</td>\n",
       "      <td>...</td>\n",
       "      <td>...</td>\n",
       "      <td>...</td>\n",
       "      <td>...</td>\n",
       "      <td>...</td>\n",
       "      <td>...</td>\n",
       "    </tr>\n",
       "    <tr>\n",
       "      <th>16768</th>\n",
       "      <td>Morrissey</td>\n",
       "      <td>California Son</td>\n",
       "      <td>Ben Hewitt</td>\n",
       "      <td>5.9</td>\n",
       "      <td>2019-01-01</td>\n",
       "      <td>2019-05-25</td>\n",
       "      <td>none</td>\n",
       "      <td>Rock</td>\n",
       "      <td>0.480417</td>\n",
       "      <td>0.657000</td>\n",
       "      <td>4.083333</td>\n",
       "      <td>-5.798833</td>\n",
       "      <td>0.052375</td>\n",
       "      <td>0.167543</td>\n",
       "      <td>0.003680</td>\n",
       "      <td>0.133358</td>\n",
       "      <td>0.404542</td>\n",
       "      <td>125.641000</td>\n",
       "      <td>2019</td>\n",
       "      <td>10</td>\n",
       "    </tr>\n",
       "    <tr>\n",
       "      <th>16769</th>\n",
       "      <td>Don Cherry</td>\n",
       "      <td>Brown Rice</td>\n",
       "      <td>Andy Beta</td>\n",
       "      <td>9.2</td>\n",
       "      <td>2019-01-01</td>\n",
       "      <td>2019-05-25</td>\n",
       "      <td>none</td>\n",
       "      <td>Jazz</td>\n",
       "      <td>0.624000</td>\n",
       "      <td>0.579000</td>\n",
       "      <td>7.000000</td>\n",
       "      <td>-8.389000</td>\n",
       "      <td>0.161000</td>\n",
       "      <td>0.348000</td>\n",
       "      <td>0.000032</td>\n",
       "      <td>0.204000</td>\n",
       "      <td>0.418000</td>\n",
       "      <td>182.968000</td>\n",
       "      <td>2019</td>\n",
       "      <td>1</td>\n",
       "    </tr>\n",
       "    <tr>\n",
       "      <th>16772</th>\n",
       "      <td>Flying Lotus</td>\n",
       "      <td>Flamagra</td>\n",
       "      <td>Philip Sherburne</td>\n",
       "      <td>7.8</td>\n",
       "      <td>2019-01-01</td>\n",
       "      <td>2019-05-24</td>\n",
       "      <td>none</td>\n",
       "      <td>Electronic</td>\n",
       "      <td>0.536750</td>\n",
       "      <td>0.652050</td>\n",
       "      <td>5.350000</td>\n",
       "      <td>-8.583750</td>\n",
       "      <td>0.134820</td>\n",
       "      <td>0.215916</td>\n",
       "      <td>0.519892</td>\n",
       "      <td>0.192075</td>\n",
       "      <td>0.353705</td>\n",
       "      <td>124.988200</td>\n",
       "      <td>2019</td>\n",
       "      <td>6</td>\n",
       "    </tr>\n",
       "    <tr>\n",
       "      <th>16773</th>\n",
       "      <td>YG</td>\n",
       "      <td>4REAL 4REAL</td>\n",
       "      <td>Sheldon Pearce</td>\n",
       "      <td>7.2</td>\n",
       "      <td>2019-01-01</td>\n",
       "      <td>2019-05-24</td>\n",
       "      <td>none</td>\n",
       "      <td>Rap</td>\n",
       "      <td>0.815429</td>\n",
       "      <td>0.556929</td>\n",
       "      <td>4.785714</td>\n",
       "      <td>-6.327643</td>\n",
       "      <td>0.259721</td>\n",
       "      <td>0.186476</td>\n",
       "      <td>0.000848</td>\n",
       "      <td>0.244586</td>\n",
       "      <td>0.361850</td>\n",
       "      <td>115.455857</td>\n",
       "      <td>2019</td>\n",
       "      <td>4</td>\n",
       "    </tr>\n",
       "    <tr>\n",
       "      <th>16774</th>\n",
       "      <td>Mavis Staples</td>\n",
       "      <td>We Get By</td>\n",
       "      <td>Stephen M. Deusner</td>\n",
       "      <td>7.5</td>\n",
       "      <td>2019-01-01</td>\n",
       "      <td>2019-05-24</td>\n",
       "      <td>none</td>\n",
       "      <td>Pop/R&amp;B</td>\n",
       "      <td>0.633636</td>\n",
       "      <td>0.374664</td>\n",
       "      <td>5.454545</td>\n",
       "      <td>-10.363000</td>\n",
       "      <td>0.071664</td>\n",
       "      <td>0.710727</td>\n",
       "      <td>0.001982</td>\n",
       "      <td>0.118609</td>\n",
       "      <td>0.619364</td>\n",
       "      <td>114.246818</td>\n",
       "      <td>2019</td>\n",
       "      <td>7</td>\n",
       "    </tr>\n",
       "  </tbody>\n",
       "</table>\n",
       "<p>12410 rows × 20 columns</p>\n",
       "</div>"
      ],
      "text/plain": [
       "                     artist                              album  \\\n",
       "1                John Fahey  The Great Santa Barbara Oil Slick   \n",
       "2            Reigning Sound                    Too Much Guitar   \n",
       "4                Mac Miller                           Swimming   \n",
       "5              French Kicks                           Swimming   \n",
       "6      Jessica Lea Mayfield        With Blasphemy So Heartfelt   \n",
       "...                     ...                                ...   \n",
       "16768             Morrissey                     California Son   \n",
       "16769            Don Cherry                         Brown Rice   \n",
       "16772          Flying Lotus                           Flamagra   \n",
       "16773                    YG                        4REAL 4REAL   \n",
       "16774         Mavis Staples                          We Get By   \n",
       "\n",
       "             reviewauthor  score releaseyear reviewdate   recordlabel  \\\n",
       "1         Mark Richardson    8.2  2005-01-01 2005-02-13         Water   \n",
       "2      Stephen M. Deusner    8.3  2004-01-01 2004-08-19    In the Red   \n",
       "4          Evan Rytlewski    7.5  2018-01-01 2018-08-03  Warner Bros.   \n",
       "5             Roque Strew    7.6  2008-01-01 2008-08-27       Vagrant   \n",
       "6      Stephen M. Deusner    8.2  2008-01-01 2008-11-11       Polymer   \n",
       "...                   ...    ...         ...        ...           ...   \n",
       "16768          Ben Hewitt    5.9  2019-01-01 2019-05-25          none   \n",
       "16769           Andy Beta    9.2  2019-01-01 2019-05-25          none   \n",
       "16772    Philip Sherburne    7.8  2019-01-01 2019-05-24          none   \n",
       "16773      Sheldon Pearce    7.2  2019-01-01 2019-05-24          none   \n",
       "16774  Stephen M. Deusner    7.5  2019-01-01 2019-05-24          none   \n",
       "\n",
       "              genre  danceability    energy       key   loudness  speechiness  \\\n",
       "1      Folk/Country      0.369765  0.325412  4.470588 -19.153824     0.148624   \n",
       "2        Electronic      0.253943  0.912857  4.428571  -1.089500     0.055500   \n",
       "4               Rap      0.624846  0.438154  4.153846  -9.456077     0.170246   \n",
       "5        Electronic      0.624846  0.438154  4.153846  -9.456077     0.170246   \n",
       "6              Rock      0.447583  0.399083  6.500000  -8.402000     0.032267   \n",
       "...             ...           ...       ...       ...        ...          ...   \n",
       "16768          Rock      0.480417  0.657000  4.083333  -5.798833     0.052375   \n",
       "16769          Jazz      0.624000  0.579000  7.000000  -8.389000     0.161000   \n",
       "16772    Electronic      0.536750  0.652050  5.350000  -8.583750     0.134820   \n",
       "16773           Rap      0.815429  0.556929  4.785714  -6.327643     0.259721   \n",
       "16774       Pop/R&B      0.633636  0.374664  5.454545 -10.363000     0.071664   \n",
       "\n",
       "       acousticness  instrumentalness  liveness   valence       tempo  \\\n",
       "1          0.647053          0.559133  0.527782  0.179465  107.622647   \n",
       "2          0.000253          0.751214  0.199071  0.552786  133.895500   \n",
       "4          0.652462          0.012819  0.121131  0.281138  122.121308   \n",
       "5          0.652462          0.012819  0.121131  0.281138  122.121308   \n",
       "6          0.694750          0.004033  0.123142  0.237933  111.549917   \n",
       "...             ...               ...       ...       ...         ...   \n",
       "16768      0.167543          0.003680  0.133358  0.404542  125.641000   \n",
       "16769      0.348000          0.000032  0.204000  0.418000  182.968000   \n",
       "16772      0.215916          0.519892  0.192075  0.353705  124.988200   \n",
       "16773      0.186476          0.000848  0.244586  0.361850  115.455857   \n",
       "16774      0.710727          0.001982  0.118609  0.619364  114.246818   \n",
       "\n",
       "       releaseyear_notutc  album_number  \n",
       "1                    2005             2  \n",
       "2                    2004             0  \n",
       "4                    2018             4  \n",
       "5                    2008             3  \n",
       "6                    2008             0  \n",
       "...                   ...           ...  \n",
       "16768                2019            10  \n",
       "16769                2019             1  \n",
       "16772                2019             6  \n",
       "16773                2019             4  \n",
       "16774                2019             7  \n",
       "\n",
       "[12410 rows x 20 columns]"
      ]
     },
     "execution_count": 12,
     "metadata": {},
     "output_type": "execute_result"
    }
   ],
   "source": [
    "# 5.2\n",
    "\n",
    "# adding album number\n",
    "two_ormore[\"album_number\"] = two_ormore.sort_values(by=[\"artist\", \"releaseyear\"]).groupby(by=\"artist\").cumcount()\n",
    "two_ormore"
   ]
  },
  {
   "cell_type": "code",
   "execution_count": 13,
   "metadata": {},
   "outputs": [
    {
     "data": {
      "text/html": [
       "<div>\n",
       "<style scoped>\n",
       "    .dataframe tbody tr th:only-of-type {\n",
       "        vertical-align: middle;\n",
       "    }\n",
       "\n",
       "    .dataframe tbody tr th {\n",
       "        vertical-align: top;\n",
       "    }\n",
       "\n",
       "    .dataframe thead tr th {\n",
       "        text-align: left;\n",
       "    }\n",
       "</style>\n",
       "<table border=\"1\" class=\"dataframe\">\n",
       "  <thead>\n",
       "    <tr>\n",
       "      <th></th>\n",
       "      <th>album_number</th>\n",
       "      <th colspan=\"2\" halign=\"left\">score</th>\n",
       "    </tr>\n",
       "    <tr>\n",
       "      <th></th>\n",
       "      <th></th>\n",
       "      <th>sem</th>\n",
       "      <th>mean</th>\n",
       "    </tr>\n",
       "  </thead>\n",
       "  <tbody>\n",
       "    <tr>\n",
       "      <th>0</th>\n",
       "      <td>0</td>\n",
       "      <td>0.020731</td>\n",
       "      <td>7.298906</td>\n",
       "    </tr>\n",
       "    <tr>\n",
       "      <th>1</th>\n",
       "      <td>1</td>\n",
       "      <td>0.021295</td>\n",
       "      <td>7.043294</td>\n",
       "    </tr>\n",
       "  </tbody>\n",
       "</table>\n",
       "</div>"
      ],
      "text/plain": [
       "  album_number     score          \n",
       "                     sem      mean\n",
       "0            0  0.020731  7.298906\n",
       "1            1  0.021295  7.043294"
      ]
     },
     "execution_count": 13,
     "metadata": {},
     "output_type": "execute_result"
    }
   ],
   "source": [
    "# 5.3\n",
    "\n",
    "one_or_two = two_ormore[two_ormore[\"album_number\"].isin([0,1])]\n",
    "\n",
    "one_or_two_mean_sem = one_or_two.groupby(by=\"album_number\").aggregate({\"score\": [\"sem\", \"mean\"]}).reset_index()\n",
    "one_or_two_mean_sem"
   ]
  },
  {
   "cell_type": "code",
   "execution_count": 16,
   "metadata": {},
   "outputs": [
    {
     "data": {
      "text/plain": [
       "<AxesSubplot:xlabel='album_number', ylabel='score'>"
      ]
     },
     "execution_count": 16,
     "metadata": {},
     "output_type": "execute_result"
    },
    {
     "data": {
      "image/png": "[encoded data removed]",
      "text/plain": [
       "<Figure size 432x288 with 1 Axes>"
      ]
     },
     "metadata": {},
     "output_type": "display_data"
    }
   ],
   "source": [
    "# 5.3\n",
    "\n",
    "album_score = one_or_two[[\"album_number\", \"score\"]].reset_index()\n",
    "sns.barplot(data=album_score, x=\"album_number\", y=\"score\", ci=\"sd\")"
   ]
  },
  {
   "cell_type": "code",
   "execution_count": 17,
   "metadata": {},
   "outputs": [
    {
     "data": {
      "text/plain": [
       "Ttest_indResult(statistic=8.60083965713685, pvalue=9.625004156621532e-18)"
      ]
     },
     "execution_count": 17,
     "metadata": {},
     "output_type": "execute_result"
    }
   ],
   "source": [
    "# 5.4\n",
    "ttest_ind(one_or_two[one_or_two[\"album_number\"]==0][\"score\"],one_or_two[one_or_two[\"album_number\"]==1][\"score\"])"
   ]
  }
 ],
 "metadata": {
  "kernelspec": {
   "display_name": "Python 3",
   "language": "python",
   "name": "python3"
  },
  "language_info": {
   "codemirror_mode": {
    "name": "ipython",
    "version": 3
   },
   "file_extension": ".py",
   "mimetype": "text/x-python",
   "name": "python",
   "nbconvert_exporter": "python",
   "pygments_lexer": "ipython3",
   "version": "3.6.8"
  },
  "pycharm": {
   "stem_cell": {
    "cell_type": "raw",
    "metadata": {
     "collapsed": false
    },
    "source": []
   }
  }
 },
 "nbformat": 4,
 "nbformat_minor": 4
}
